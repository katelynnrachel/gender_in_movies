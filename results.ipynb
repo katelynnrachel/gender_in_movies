{
 "cells": [
  {
   "cell_type": "code",
   "execution_count": 1,
   "id": "264587c8",
   "metadata": {},
   "outputs": [
    {
     "name": "stdout",
     "output_type": "stream",
     "text": [
      "Dataset URL: https://www.kaggle.com/datasets/harshitshankhdhar/imdb-dataset-of-top-1000-movies-and-tv-shows\n"
     ]
    }
   ],
   "source": [
    "from src.download_data import download_kaggle_dataset\n",
    "\n",
    "download_kaggle_dataset(\"harshitshankhdhar/imdb-dataset-of-top-1000-movies-and-tv-shows\")\n"
   ]
  },
  {
   "cell_type": "code",
   "execution_count": 1,
   "id": "da866f53",
   "metadata": {
    "scrolled": true
   },
   "outputs": [
    {
     "name": "stderr",
     "output_type": "stream",
     "text": [
      "/Users/katelynnyoussefyeh/gender_in_movies/src/clean_data.py:21: SyntaxWarning: invalid escape sequence '\\$'\n",
      "  df['Gross'] = df['Gross'].replace('[\\$,]', '', regex=True).astype(float)\n"
     ]
    },
    {
     "data": {
      "text/html": [
       "<div>\n",
       "<style scoped>\n",
       "    .dataframe tbody tr th:only-of-type {\n",
       "        vertical-align: middle;\n",
       "    }\n",
       "\n",
       "    .dataframe tbody tr th {\n",
       "        vertical-align: top;\n",
       "    }\n",
       "\n",
       "    .dataframe thead th {\n",
       "        text-align: right;\n",
       "    }\n",
       "</style>\n",
       "<table border=\"1\" class=\"dataframe\">\n",
       "  <thead>\n",
       "    <tr style=\"text-align: right;\">\n",
       "      <th></th>\n",
       "      <th>Series_Title</th>\n",
       "      <th>Released_Year</th>\n",
       "      <th>Runtime</th>\n",
       "      <th>Genre</th>\n",
       "      <th>IMDB_Rating</th>\n",
       "      <th>Director</th>\n",
       "      <th>Star1</th>\n",
       "      <th>Star2</th>\n",
       "      <th>Star3</th>\n",
       "      <th>No_of_Votes</th>\n",
       "      <th>Gross</th>\n",
       "      <th>Director_First</th>\n",
       "      <th>Star1_First</th>\n",
       "    </tr>\n",
       "  </thead>\n",
       "  <tbody>\n",
       "    <tr>\n",
       "      <th>0</th>\n",
       "      <td>The Shawshank Redemption</td>\n",
       "      <td>1994</td>\n",
       "      <td>142 min</td>\n",
       "      <td>Drama</td>\n",
       "      <td>9.3</td>\n",
       "      <td>Frank Darabont</td>\n",
       "      <td>Tim Robbins</td>\n",
       "      <td>Morgan Freeman</td>\n",
       "      <td>Bob Gunton</td>\n",
       "      <td>2343110</td>\n",
       "      <td>28341469.0</td>\n",
       "      <td>Frank</td>\n",
       "      <td>Tim</td>\n",
       "    </tr>\n",
       "    <tr>\n",
       "      <th>1</th>\n",
       "      <td>The Godfather</td>\n",
       "      <td>1972</td>\n",
       "      <td>175 min</td>\n",
       "      <td>Crime, Drama</td>\n",
       "      <td>9.2</td>\n",
       "      <td>Francis Ford Coppola</td>\n",
       "      <td>Marlon Brando</td>\n",
       "      <td>Al Pacino</td>\n",
       "      <td>James Caan</td>\n",
       "      <td>1620367</td>\n",
       "      <td>134966411.0</td>\n",
       "      <td>Francis</td>\n",
       "      <td>Marlon</td>\n",
       "    </tr>\n",
       "    <tr>\n",
       "      <th>2</th>\n",
       "      <td>The Dark Knight</td>\n",
       "      <td>2008</td>\n",
       "      <td>152 min</td>\n",
       "      <td>Action, Crime, Drama</td>\n",
       "      <td>9.0</td>\n",
       "      <td>Christopher Nolan</td>\n",
       "      <td>Christian Bale</td>\n",
       "      <td>Heath Ledger</td>\n",
       "      <td>Aaron Eckhart</td>\n",
       "      <td>2303232</td>\n",
       "      <td>534858444.0</td>\n",
       "      <td>Christopher</td>\n",
       "      <td>Christian</td>\n",
       "    </tr>\n",
       "    <tr>\n",
       "      <th>3</th>\n",
       "      <td>The Godfather: Part II</td>\n",
       "      <td>1974</td>\n",
       "      <td>202 min</td>\n",
       "      <td>Crime, Drama</td>\n",
       "      <td>9.0</td>\n",
       "      <td>Francis Ford Coppola</td>\n",
       "      <td>Al Pacino</td>\n",
       "      <td>Robert De Niro</td>\n",
       "      <td>Robert Duvall</td>\n",
       "      <td>1129952</td>\n",
       "      <td>57300000.0</td>\n",
       "      <td>Francis</td>\n",
       "      <td>Al</td>\n",
       "    </tr>\n",
       "    <tr>\n",
       "      <th>4</th>\n",
       "      <td>12 Angry Men</td>\n",
       "      <td>1957</td>\n",
       "      <td>96 min</td>\n",
       "      <td>Crime, Drama</td>\n",
       "      <td>9.0</td>\n",
       "      <td>Sidney Lumet</td>\n",
       "      <td>Henry Fonda</td>\n",
       "      <td>Lee J. Cobb</td>\n",
       "      <td>Martin Balsam</td>\n",
       "      <td>689845</td>\n",
       "      <td>4360000.0</td>\n",
       "      <td>Sidney</td>\n",
       "      <td>Henry</td>\n",
       "    </tr>\n",
       "  </tbody>\n",
       "</table>\n",
       "</div>"
      ],
      "text/plain": [
       "               Series_Title  Released_Year  Runtime                 Genre  \\\n",
       "0  The Shawshank Redemption           1994  142 min                 Drama   \n",
       "1             The Godfather           1972  175 min          Crime, Drama   \n",
       "2           The Dark Knight           2008  152 min  Action, Crime, Drama   \n",
       "3    The Godfather: Part II           1974  202 min          Crime, Drama   \n",
       "4              12 Angry Men           1957   96 min          Crime, Drama   \n",
       "\n",
       "   IMDB_Rating              Director           Star1           Star2  \\\n",
       "0          9.3        Frank Darabont     Tim Robbins  Morgan Freeman   \n",
       "1          9.2  Francis Ford Coppola   Marlon Brando       Al Pacino   \n",
       "2          9.0     Christopher Nolan  Christian Bale    Heath Ledger   \n",
       "3          9.0  Francis Ford Coppola       Al Pacino  Robert De Niro   \n",
       "4          9.0          Sidney Lumet     Henry Fonda     Lee J. Cobb   \n",
       "\n",
       "           Star3  No_of_Votes        Gross Director_First Star1_First  \n",
       "0     Bob Gunton      2343110   28341469.0          Frank         Tim  \n",
       "1     James Caan      1620367  134966411.0        Francis      Marlon  \n",
       "2  Aaron Eckhart      2303232  534858444.0    Christopher   Christian  \n",
       "3  Robert Duvall      1129952   57300000.0        Francis          Al  \n",
       "4  Martin Balsam       689845    4360000.0         Sidney       Henry  "
      ]
     },
     "execution_count": 1,
     "metadata": {},
     "output_type": "execute_result"
    }
   ],
   "source": [
    "from src.clean_data import clean_imdb_data\n",
    "\n",
    "df = clean_imdb_data(\"data/imdb_top_1000.csv\")  # Replace with your file name if different\n",
    "df.head()"
   ]
  }
 ],
 "metadata": {
  "kernelspec": {
   "display_name": "dscienv",
   "language": "python",
   "name": "dscienv"
  },
  "language_info": {
   "codemirror_mode": {
    "name": "ipython",
    "version": 3
   },
   "file_extension": ".py",
   "mimetype": "text/x-python",
   "name": "python",
   "nbconvert_exporter": "python",
   "pygments_lexer": "ipython3",
   "version": "3.12.8"
  }
 },
 "nbformat": 4,
 "nbformat_minor": 5
}
